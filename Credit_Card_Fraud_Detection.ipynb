{
  "nbformat": 4,
  "nbformat_minor": 0,
  "metadata": {
    "colab": {
      "provenance": [],
      "gpuType": "T4",
      "toc_visible": true
    },
    "kernelspec": {
      "name": "python3",
      "display_name": "Python 3"
    },
    "language_info": {
      "name": "python"
    },
    "accelerator": "GPU"
  },
  "cells": [
    {
      "cell_type": "markdown",
      "source": [
        "#  Import Libraries"
      ],
      "metadata": {
        "id": "bhpqCxwY5Fr4"
      }
    },
    {
      "cell_type": "code",
      "source": [
        "import pandas as pd\n",
        "import numpy as np\n",
        "import seaborn as sns\n",
        "import matplotlib.pyplot as plt\n",
        "\n",
        "from sklearn.model_selection import train_test_split\n",
        "from sklearn.preprocessing import StandardScaler\n",
        "from sklearn.decomposition import PCA\n",
        "from sklearn.metrics import classification_report, confusion_matrix, roc_auc_score, accuracy_score\n",
        "from sklearn.linear_model import LogisticRegression\n",
        "from sklearn.ensemble import RandomForestClassifier, IsolationForest\n",
        "from xgboost import XGBClassifier\n",
        "from imblearn.over_sampling import SMOTE\n",
        "\n",
        "from tensorflow.keras.models import Model\n",
        "from tensorflow.keras.layers import Input, Dense\n",
        "from tensorflow.keras.optimizers import Adam"
      ],
      "metadata": {
        "id": "eMThY_nrUdjv"
      },
      "execution_count": 1,
      "outputs": []
    },
    {
      "cell_type": "markdown",
      "source": [
        "# Load Dataset"
      ],
      "metadata": {
        "id": "jN1EuP0y6LMI"
      }
    },
    {
      "cell_type": "code",
      "source": [
        "df = pd.read_csv(\"card_transdata.csv\")\n",
        "df.head()"
      ],
      "metadata": {
        "colab": {
          "base_uri": "https://localhost:8080/",
          "height": 226
        },
        "id": "WKBvZbVZ6g0X",
        "outputId": "f3575fe7-586d-4c27-cb8f-f40bfeabf3a1"
      },
      "execution_count": 2,
      "outputs": [
        {
          "output_type": "execute_result",
          "data": {
            "text/plain": [
              "   distance_from_home  distance_from_last_transaction  \\\n",
              "0           57.877857                        0.311140   \n",
              "1           10.829943                        0.175592   \n",
              "2            5.091079                        0.805153   \n",
              "3            2.247564                        5.600044   \n",
              "4           44.190936                        0.566486   \n",
              "\n",
              "   ratio_to_median_purchase_price  repeat_retailer  used_chip  \\\n",
              "0                        1.945940              1.0        1.0   \n",
              "1                        1.294219              1.0        0.0   \n",
              "2                        0.427715              1.0        0.0   \n",
              "3                        0.362663              1.0        1.0   \n",
              "4                        2.222767              1.0        1.0   \n",
              "\n",
              "   used_pin_number  online_order  fraud  \n",
              "0              0.0           0.0    0.0  \n",
              "1              0.0           0.0    0.0  \n",
              "2              0.0           1.0    0.0  \n",
              "3              0.0           1.0    0.0  \n",
              "4              0.0           1.0    0.0  "
            ],
            "text/html": [
              "\n",
              "  <div id=\"df-8c0837b6-febf-41cc-afe2-4ab3666892e1\" class=\"colab-df-container\">\n",
              "    <div>\n",
              "<style scoped>\n",
              "    .dataframe tbody tr th:only-of-type {\n",
              "        vertical-align: middle;\n",
              "    }\n",
              "\n",
              "    .dataframe tbody tr th {\n",
              "        vertical-align: top;\n",
              "    }\n",
              "\n",
              "    .dataframe thead th {\n",
              "        text-align: right;\n",
              "    }\n",
              "</style>\n",
              "<table border=\"1\" class=\"dataframe\">\n",
              "  <thead>\n",
              "    <tr style=\"text-align: right;\">\n",
              "      <th></th>\n",
              "      <th>distance_from_home</th>\n",
              "      <th>distance_from_last_transaction</th>\n",
              "      <th>ratio_to_median_purchase_price</th>\n",
              "      <th>repeat_retailer</th>\n",
              "      <th>used_chip</th>\n",
              "      <th>used_pin_number</th>\n",
              "      <th>online_order</th>\n",
              "      <th>fraud</th>\n",
              "    </tr>\n",
              "  </thead>\n",
              "  <tbody>\n",
              "    <tr>\n",
              "      <th>0</th>\n",
              "      <td>57.877857</td>\n",
              "      <td>0.311140</td>\n",
              "      <td>1.945940</td>\n",
              "      <td>1.0</td>\n",
              "      <td>1.0</td>\n",
              "      <td>0.0</td>\n",
              "      <td>0.0</td>\n",
              "      <td>0.0</td>\n",
              "    </tr>\n",
              "    <tr>\n",
              "      <th>1</th>\n",
              "      <td>10.829943</td>\n",
              "      <td>0.175592</td>\n",
              "      <td>1.294219</td>\n",
              "      <td>1.0</td>\n",
              "      <td>0.0</td>\n",
              "      <td>0.0</td>\n",
              "      <td>0.0</td>\n",
              "      <td>0.0</td>\n",
              "    </tr>\n",
              "    <tr>\n",
              "      <th>2</th>\n",
              "      <td>5.091079</td>\n",
              "      <td>0.805153</td>\n",
              "      <td>0.427715</td>\n",
              "      <td>1.0</td>\n",
              "      <td>0.0</td>\n",
              "      <td>0.0</td>\n",
              "      <td>1.0</td>\n",
              "      <td>0.0</td>\n",
              "    </tr>\n",
              "    <tr>\n",
              "      <th>3</th>\n",
              "      <td>2.247564</td>\n",
              "      <td>5.600044</td>\n",
              "      <td>0.362663</td>\n",
              "      <td>1.0</td>\n",
              "      <td>1.0</td>\n",
              "      <td>0.0</td>\n",
              "      <td>1.0</td>\n",
              "      <td>0.0</td>\n",
              "    </tr>\n",
              "    <tr>\n",
              "      <th>4</th>\n",
              "      <td>44.190936</td>\n",
              "      <td>0.566486</td>\n",
              "      <td>2.222767</td>\n",
              "      <td>1.0</td>\n",
              "      <td>1.0</td>\n",
              "      <td>0.0</td>\n",
              "      <td>1.0</td>\n",
              "      <td>0.0</td>\n",
              "    </tr>\n",
              "  </tbody>\n",
              "</table>\n",
              "</div>\n",
              "    <div class=\"colab-df-buttons\">\n",
              "\n",
              "  <div class=\"colab-df-container\">\n",
              "    <button class=\"colab-df-convert\" onclick=\"convertToInteractive('df-8c0837b6-febf-41cc-afe2-4ab3666892e1')\"\n",
              "            title=\"Convert this dataframe to an interactive table.\"\n",
              "            style=\"display:none;\">\n",
              "\n",
              "  <svg xmlns=\"http://www.w3.org/2000/svg\" height=\"24px\" viewBox=\"0 -960 960 960\">\n",
              "    <path d=\"M120-120v-720h720v720H120Zm60-500h600v-160H180v160Zm220 220h160v-160H400v160Zm0 220h160v-160H400v160ZM180-400h160v-160H180v160Zm440 0h160v-160H620v160ZM180-180h160v-160H180v160Zm440 0h160v-160H620v160Z\"/>\n",
              "  </svg>\n",
              "    </button>\n",
              "\n",
              "  <style>\n",
              "    .colab-df-container {\n",
              "      display:flex;\n",
              "      gap: 12px;\n",
              "    }\n",
              "\n",
              "    .colab-df-convert {\n",
              "      background-color: #E8F0FE;\n",
              "      border: none;\n",
              "      border-radius: 50%;\n",
              "      cursor: pointer;\n",
              "      display: none;\n",
              "      fill: #1967D2;\n",
              "      height: 32px;\n",
              "      padding: 0 0 0 0;\n",
              "      width: 32px;\n",
              "    }\n",
              "\n",
              "    .colab-df-convert:hover {\n",
              "      background-color: #E2EBFA;\n",
              "      box-shadow: 0px 1px 2px rgba(60, 64, 67, 0.3), 0px 1px 3px 1px rgba(60, 64, 67, 0.15);\n",
              "      fill: #174EA6;\n",
              "    }\n",
              "\n",
              "    .colab-df-buttons div {\n",
              "      margin-bottom: 4px;\n",
              "    }\n",
              "\n",
              "    [theme=dark] .colab-df-convert {\n",
              "      background-color: #3B4455;\n",
              "      fill: #D2E3FC;\n",
              "    }\n",
              "\n",
              "    [theme=dark] .colab-df-convert:hover {\n",
              "      background-color: #434B5C;\n",
              "      box-shadow: 0px 1px 3px 1px rgba(0, 0, 0, 0.15);\n",
              "      filter: drop-shadow(0px 1px 2px rgba(0, 0, 0, 0.3));\n",
              "      fill: #FFFFFF;\n",
              "    }\n",
              "  </style>\n",
              "\n",
              "    <script>\n",
              "      const buttonEl =\n",
              "        document.querySelector('#df-8c0837b6-febf-41cc-afe2-4ab3666892e1 button.colab-df-convert');\n",
              "      buttonEl.style.display =\n",
              "        google.colab.kernel.accessAllowed ? 'block' : 'none';\n",
              "\n",
              "      async function convertToInteractive(key) {\n",
              "        const element = document.querySelector('#df-8c0837b6-febf-41cc-afe2-4ab3666892e1');\n",
              "        const dataTable =\n",
              "          await google.colab.kernel.invokeFunction('convertToInteractive',\n",
              "                                                    [key], {});\n",
              "        if (!dataTable) return;\n",
              "\n",
              "        const docLinkHtml = 'Like what you see? Visit the ' +\n",
              "          '<a target=\"_blank\" href=https://colab.research.google.com/notebooks/data_table.ipynb>data table notebook</a>'\n",
              "          + ' to learn more about interactive tables.';\n",
              "        element.innerHTML = '';\n",
              "        dataTable['output_type'] = 'display_data';\n",
              "        await google.colab.output.renderOutput(dataTable, element);\n",
              "        const docLink = document.createElement('div');\n",
              "        docLink.innerHTML = docLinkHtml;\n",
              "        element.appendChild(docLink);\n",
              "      }\n",
              "    </script>\n",
              "  </div>\n",
              "\n",
              "\n",
              "    <div id=\"df-032042d8-1243-4750-a689-8f36d6e23f23\">\n",
              "      <button class=\"colab-df-quickchart\" onclick=\"quickchart('df-032042d8-1243-4750-a689-8f36d6e23f23')\"\n",
              "                title=\"Suggest charts\"\n",
              "                style=\"display:none;\">\n",
              "\n",
              "<svg xmlns=\"http://www.w3.org/2000/svg\" height=\"24px\"viewBox=\"0 0 24 24\"\n",
              "     width=\"24px\">\n",
              "    <g>\n",
              "        <path d=\"M19 3H5c-1.1 0-2 .9-2 2v14c0 1.1.9 2 2 2h14c1.1 0 2-.9 2-2V5c0-1.1-.9-2-2-2zM9 17H7v-7h2v7zm4 0h-2V7h2v10zm4 0h-2v-4h2v4z\"/>\n",
              "    </g>\n",
              "</svg>\n",
              "      </button>\n",
              "\n",
              "<style>\n",
              "  .colab-df-quickchart {\n",
              "      --bg-color: #E8F0FE;\n",
              "      --fill-color: #1967D2;\n",
              "      --hover-bg-color: #E2EBFA;\n",
              "      --hover-fill-color: #174EA6;\n",
              "      --disabled-fill-color: #AAA;\n",
              "      --disabled-bg-color: #DDD;\n",
              "  }\n",
              "\n",
              "  [theme=dark] .colab-df-quickchart {\n",
              "      --bg-color: #3B4455;\n",
              "      --fill-color: #D2E3FC;\n",
              "      --hover-bg-color: #434B5C;\n",
              "      --hover-fill-color: #FFFFFF;\n",
              "      --disabled-bg-color: #3B4455;\n",
              "      --disabled-fill-color: #666;\n",
              "  }\n",
              "\n",
              "  .colab-df-quickchart {\n",
              "    background-color: var(--bg-color);\n",
              "    border: none;\n",
              "    border-radius: 50%;\n",
              "    cursor: pointer;\n",
              "    display: none;\n",
              "    fill: var(--fill-color);\n",
              "    height: 32px;\n",
              "    padding: 0;\n",
              "    width: 32px;\n",
              "  }\n",
              "\n",
              "  .colab-df-quickchart:hover {\n",
              "    background-color: var(--hover-bg-color);\n",
              "    box-shadow: 0 1px 2px rgba(60, 64, 67, 0.3), 0 1px 3px 1px rgba(60, 64, 67, 0.15);\n",
              "    fill: var(--button-hover-fill-color);\n",
              "  }\n",
              "\n",
              "  .colab-df-quickchart-complete:disabled,\n",
              "  .colab-df-quickchart-complete:disabled:hover {\n",
              "    background-color: var(--disabled-bg-color);\n",
              "    fill: var(--disabled-fill-color);\n",
              "    box-shadow: none;\n",
              "  }\n",
              "\n",
              "  .colab-df-spinner {\n",
              "    border: 2px solid var(--fill-color);\n",
              "    border-color: transparent;\n",
              "    border-bottom-color: var(--fill-color);\n",
              "    animation:\n",
              "      spin 1s steps(1) infinite;\n",
              "  }\n",
              "\n",
              "  @keyframes spin {\n",
              "    0% {\n",
              "      border-color: transparent;\n",
              "      border-bottom-color: var(--fill-color);\n",
              "      border-left-color: var(--fill-color);\n",
              "    }\n",
              "    20% {\n",
              "      border-color: transparent;\n",
              "      border-left-color: var(--fill-color);\n",
              "      border-top-color: var(--fill-color);\n",
              "    }\n",
              "    30% {\n",
              "      border-color: transparent;\n",
              "      border-left-color: var(--fill-color);\n",
              "      border-top-color: var(--fill-color);\n",
              "      border-right-color: var(--fill-color);\n",
              "    }\n",
              "    40% {\n",
              "      border-color: transparent;\n",
              "      border-right-color: var(--fill-color);\n",
              "      border-top-color: var(--fill-color);\n",
              "    }\n",
              "    60% {\n",
              "      border-color: transparent;\n",
              "      border-right-color: var(--fill-color);\n",
              "    }\n",
              "    80% {\n",
              "      border-color: transparent;\n",
              "      border-right-color: var(--fill-color);\n",
              "      border-bottom-color: var(--fill-color);\n",
              "    }\n",
              "    90% {\n",
              "      border-color: transparent;\n",
              "      border-bottom-color: var(--fill-color);\n",
              "    }\n",
              "  }\n",
              "</style>\n",
              "\n",
              "      <script>\n",
              "        async function quickchart(key) {\n",
              "          const quickchartButtonEl =\n",
              "            document.querySelector('#' + key + ' button');\n",
              "          quickchartButtonEl.disabled = true;  // To prevent multiple clicks.\n",
              "          quickchartButtonEl.classList.add('colab-df-spinner');\n",
              "          try {\n",
              "            const charts = await google.colab.kernel.invokeFunction(\n",
              "                'suggestCharts', [key], {});\n",
              "          } catch (error) {\n",
              "            console.error('Error during call to suggestCharts:', error);\n",
              "          }\n",
              "          quickchartButtonEl.classList.remove('colab-df-spinner');\n",
              "          quickchartButtonEl.classList.add('colab-df-quickchart-complete');\n",
              "        }\n",
              "        (() => {\n",
              "          let quickchartButtonEl =\n",
              "            document.querySelector('#df-032042d8-1243-4750-a689-8f36d6e23f23 button');\n",
              "          quickchartButtonEl.style.display =\n",
              "            google.colab.kernel.accessAllowed ? 'block' : 'none';\n",
              "        })();\n",
              "      </script>\n",
              "    </div>\n",
              "\n",
              "    </div>\n",
              "  </div>\n"
            ],
            "application/vnd.google.colaboratory.intrinsic+json": {
              "type": "dataframe",
              "variable_name": "df"
            }
          },
          "metadata": {},
          "execution_count": 2
        }
      ]
    },
    {
      "cell_type": "markdown",
      "source": [
        "# EDA (Exploratory Data Analysis)"
      ],
      "metadata": {
        "id": "-FjOg8-M7Gco"
      }
    },
    {
      "cell_type": "markdown",
      "source": [
        "## Correlation Heatmap"
      ],
      "metadata": {
        "id": "fRplWUGh7LbH"
      }
    },
    {
      "cell_type": "code",
      "source": [
        "plt.figure(figsize=(10, 6))\n",
        "sns.heatmap(df.corr(), annot=True, cmap='coolwarm')\n",
        "plt.title(\"Feature Correlation Heatmap\")\n",
        "plt.show()"
      ],
      "metadata": {
        "colab": {
          "base_uri": "https://localhost:8080/",
          "height": 734
        },
        "id": "rIuQ06ey7INe",
        "outputId": "8e543c28-0967-438f-f8ef-f2db0adba901"
      },
      "execution_count": 3,
      "outputs": [
        {
          "output_type": "display_data",
          "data": {
            "text/plain": [
              "<Figure size 1000x600 with 2 Axes>"
            ],
            "image/png": "[encoded data removed]"
          },
          "metadata": {}
        }
      ]
    },
    {
      "cell_type": "markdown",
      "source": [
        "## Feature Distribution"
      ],
      "metadata": {
        "id": "rDoVn1u-7RX_"
      }
    },
    {
      "cell_type": "code",
      "source": [
        "sns.histplot(data=df, x='distance_from_home', hue='fraud', kde=True, bins=40)\n",
        "plt.title('Distance from Home: Fraud vs Non-Fraud')\n",
        "plt.show()\n"
      ],
      "metadata": {
        "colab": {
          "base_uri": "https://localhost:8080/",
          "height": 472
        },
        "id": "REgsUje-7SKO",
        "outputId": "5c8b6fae-fa3e-4a25-adfa-e3e595bf8a3a"
      },
      "execution_count": 4,
      "outputs": [
        {
          "output_type": "display_data",
          "data": {
            "text/plain": [
              "<Figure size 640x480 with 1 Axes>"
            ],
            "image/png": "[encoded data removed]"
          },
          "metadata": {}
        }
      ]
    },
    {
      "cell_type": "markdown",
      "source": [
        "## Count Plots"
      ],
      "metadata": {
        "id": "bPe40sg87YIX"
      }
    },
    {
      "cell_type": "code",
      "source": [
        "fig, axes = plt.subplots(1, 2, figsize=(14, 5))\n",
        "sns.countplot(ax=axes[0], x='online_order', hue='fraud', data=df)\n",
        "axes[0].set_title('Online Order vs Fraud')\n",
        "sns.countplot(ax=axes[1], x='used_chip', hue='fraud', data=df)\n",
        "axes[1].set_title('Used Chip vs Fraud')\n",
        "plt.tight_layout()\n",
        "plt.show()"
      ],
      "metadata": {
        "colab": {
          "base_uri": "https://localhost:8080/",
          "height": 349
        },
        "id": "BuNdkt1m7Y22",
        "outputId": "51b86126-67cc-409e-e096-da708df5e51a"
      },
      "execution_count": 5,
      "outputs": [
        {
          "output_type": "display_data",
          "data": {
            "text/plain": [
              "<Figure size 1400x500 with 2 Axes>"
            ],
            "image/png": "[encoded data removed]"
          },
          "metadata": {}
        }
      ]
    },
    {
      "cell_type": "markdown",
      "source": [
        "# Preprocessing:"
      ],
      "metadata": {
        "id": "tjk5cxUl7fcv"
      }
    },
    {
      "cell_type": "code",
      "source": [
        "X = df.drop('fraud', axis=1)\n",
        "y = df['fraud']"
      ],
      "metadata": {
        "id": "gr5Fs0Gz7gZP"
      },
      "execution_count": 6,
      "outputs": []
    },
    {
      "cell_type": "markdown",
      "source": [
        "## Scaling"
      ],
      "metadata": {
        "id": "HQHJ2chPTMfF"
      }
    },
    {
      "cell_type": "code",
      "source": [
        "scaler = StandardScaler()\n",
        "X_scaled = scaler.fit_transform(X)"
      ],
      "metadata": {
        "id": "STqwfcluS9a1"
      },
      "execution_count": 7,
      "outputs": []
    },
    {
      "cell_type": "markdown",
      "source": [
        "# **Before SMOTE**"
      ],
      "metadata": {
        "id": "-wAmvQtjTQNI"
      }
    },
    {
      "cell_type": "code",
      "source": [
        "X_train_imb, X_test_imb, y_train_imb, y_test_imb = train_test_split(X, y, test_size=0.3, random_state=42, stratify=y)"
      ],
      "metadata": {
        "id": "A3V8yYU2TW0v"
      },
      "execution_count": 8,
      "outputs": []
    },
    {
      "cell_type": "markdown",
      "source": [
        "# Apply Models"
      ],
      "metadata": {
        "id": "kckipKw6UzPg"
      }
    },
    {
      "cell_type": "code",
      "source": [
        "log_model_imb = LogisticRegression(max_iter=1000, random_state=42)\n",
        "log_model_imb.fit(X_train_imb, y_train_imb)\n",
        "log_preds_imb = log_model_imb.predict(X_test_imb)\n",
        "log_probs_imb = log_model_imb.predict_proba(X_test_imb)[:, 1]\n",
        "\n",
        "rf_model_imb = RandomForestClassifier(random_state=42)\n",
        "rf_model_imb.fit(X_train_imb, y_train_imb)\n",
        "rf_preds_imb = rf_model_imb.predict(X_test_imb)\n",
        "rf_probs_imb = rf_model_imb.predict_proba(X_test_imb)[:, 1]\n",
        "\n",
        "xgb_model_imb = XGBClassifier(use_label_encoder=False, eval_metric='logloss', random_state=42)\n",
        "xgb_model_imb.fit(X_train_imb, y_train_imb)\n",
        "xgb_preds_imb = xgb_model_imb.predict(X_test_imb)\n",
        "xgb_probs_imb = xgb_model_imb.predict_proba(X_test_imb)[:, 1]"
      ],
      "metadata": {
        "colab": {
          "base_uri": "https://localhost:8080/"
        },
        "id": "Fo30GFJxrMZT",
        "outputId": "e980cd62-17f1-4f32-f20e-03d528254d88"
      },
      "execution_count": 9,
      "outputs": [
        {
          "output_type": "stream",
          "name": "stderr",
          "text": [
            "/usr/local/lib/python3.11/dist-packages/xgboost/training.py:183: UserWarning: [10:00:37] WARNING: /workspace/src/learner.cc:738: \n",
            "Parameters: { \"use_label_encoder\" } are not used.\n",
            "\n",
            "  bst.update(dtrain, iteration=i, fobj=obj)\n"
          ]
        }
      ]
    },
    {
      "cell_type": "code",
      "source": [
        "from sklearn.metrics import accuracy_score, confusion_matrix, classification_report, roc_auc_score\n",
        "\n",
        "def evaluate_model(model_name, y_true, y_pred, y_prob):\n",
        "    print(f\"\\n=== {model_name} (Before SMOTE) ===\")\n",
        "\n",
        "    accuracy = accuracy_score(y_true, y_pred)\n",
        "    print(f\"Accuracy: {accuracy:.6f}\")\n",
        "\n",
        "    cm = confusion_matrix(y_true, y_pred)\n",
        "    print(\"Confusion Matrix:\")\n",
        "    print(cm)\n",
        "\n",
        "    print(\"\\nClassification Report:\")\n",
        "    print(classification_report(y_true, y_pred, digits=2))\n",
        "\n",
        "    roc_auc = roc_auc_score(y_true, y_prob)\n",
        "    print(f\"ROC-AUC Score: {roc_auc}\")\n",
        "\n",
        "evaluate_model(\"Logistic Regression\", y_test_imb, log_preds_imb, log_probs_imb)\n",
        "evaluate_model(\"Random Forest\", y_test_imb, rf_preds_imb, rf_probs_imb)\n",
        "evaluate_model(\"XGBoost\", y_test_imb, xgb_preds_imb, xgb_probs_imb)"
      ],
      "metadata": {
        "colab": {
          "base_uri": "https://localhost:8080/"
        },
        "id": "ikYqZHUGovrZ",
        "outputId": "c22e8f28-8735-48a7-f4dd-654add6d045e"
      },
      "execution_count": 10,
      "outputs": [
        {
          "output_type": "stream",
          "name": "stdout",
          "text": [
            "\n",
            "=== Logistic Regression (Before SMOTE) ===\n",
            "Accuracy: 0.959080\n",
            "Confusion Matrix:\n",
            "[[271937   1842]\n",
            " [ 10434  15787]]\n",
            "\n",
            "Classification Report:\n",
            "              precision    recall  f1-score   support\n",
            "\n",
            "         0.0       0.96      0.99      0.98    273779\n",
            "         1.0       0.90      0.60      0.72     26221\n",
            "\n",
            "    accuracy                           0.96    300000\n",
            "   macro avg       0.93      0.80      0.85    300000\n",
            "weighted avg       0.96      0.96      0.96    300000\n",
            "\n",
            "ROC-AUC Score: 0.9671811288299552\n",
            "\n",
            "=== Random Forest (Before SMOTE) ===\n",
            "Accuracy: 0.999983\n",
            "Confusion Matrix:\n",
            "[[273779      0]\n",
            " [     5  26216]]\n",
            "\n",
            "Classification Report:\n",
            "              precision    recall  f1-score   support\n",
            "\n",
            "         0.0       1.00      1.00      1.00    273779\n",
            "         1.0       1.00      1.00      1.00     26221\n",
            "\n",
            "    accuracy                           1.00    300000\n",
            "   macro avg       1.00      1.00      1.00    300000\n",
            "weighted avg       1.00      1.00      1.00    300000\n",
            "\n",
            "ROC-AUC Score: 1.0\n",
            "\n",
            "=== XGBoost (Before SMOTE) ===\n",
            "Accuracy: 0.998330\n",
            "Confusion Matrix:\n",
            "[[273508    271]\n",
            " [   230  25991]]\n",
            "\n",
            "Classification Report:\n",
            "              precision    recall  f1-score   support\n",
            "\n",
            "         0.0       1.00      1.00      1.00    273779\n",
            "         1.0       0.99      0.99      0.99     26221\n",
            "\n",
            "    accuracy                           1.00    300000\n",
            "   macro avg       0.99      1.00      0.99    300000\n",
            "weighted avg       1.00      1.00      1.00    300000\n",
            "\n",
            "ROC-AUC Score: 0.999973460524893\n"
          ]
        }
      ]
    },
    {
      "cell_type": "markdown",
      "source": [
        "## unsupervised models"
      ],
      "metadata": {
        "id": "7jsGynmqYvVY"
      }
    },
    {
      "cell_type": "markdown",
      "source": [
        "### Isolation Forest"
      ],
      "metadata": {
        "id": "KYXCui2wY7IA"
      }
    },
    {
      "cell_type": "code",
      "source": [
        "iso = IsolationForest(contamination=0.05, random_state=42)\n",
        "unsupervised_preds = iso.fit_predict(X_scaled)\n",
        "\n",
        "unsupervised_preds = np.where(unsupervised_preds == -1, 1, 0)\n",
        "\n",
        "print(\"=== Isolation Forest (Before SMOTE) ===\")\n",
        "print(\"Accuracy:\", accuracy_score(y, unsupervised_preds))\n",
        "print(\"Confusion Matrix:\")\n",
        "print(confusion_matrix(y, unsupervised_preds))\n",
        "print(\"\\nClassification Report:\")\n",
        "print(classification_report(y, unsupervised_preds))\n",
        "print(\"ROC-AUC Score:\", roc_auc_score(y, unsupervised_preds))"
      ],
      "metadata": {
        "colab": {
          "base_uri": "https://localhost:8080/"
        },
        "id": "4xEsZfr4Y-z4",
        "outputId": "def47549-9b6c-4a1d-8074-5c4e6a47b5d3"
      },
      "execution_count": 11,
      "outputs": [
        {
          "output_type": "stream",
          "name": "stdout",
          "text": [
            "=== Isolation Forest (Before SMOTE) ===\n",
            "Accuracy: 0.884389\n",
            "Confusion Matrix:\n",
            "[[873493  39104]\n",
            " [ 76507  10896]]\n",
            "\n",
            "Classification Report:\n",
            "              precision    recall  f1-score   support\n",
            "\n",
            "         0.0       0.92      0.96      0.94    912597\n",
            "         1.0       0.22      0.12      0.16     87403\n",
            "\n",
            "    accuracy                           0.88   1000000\n",
            "   macro avg       0.57      0.54      0.55   1000000\n",
            "weighted avg       0.86      0.88      0.87   1000000\n",
            "\n",
            "ROC-AUC Score: 0.5409073847152648\n"
          ]
        }
      ]
    },
    {
      "cell_type": "markdown",
      "source": [
        "### Autoencoder"
      ],
      "metadata": {
        "id": "US-MSjdRZHSw"
      }
    },
    {
      "cell_type": "code",
      "source": [
        "X_normal = X_scaled[y == 0]\n",
        "input_dim = X_scaled.shape[1]\n",
        "encoding_dim = 5\n",
        "\n",
        "input_layer = Input(shape=(input_dim,))\n",
        "encoded = Dense(encoding_dim, activation='relu')(input_layer)\n",
        "decoded = Dense(input_dim, activation='sigmoid')(encoded)\n",
        "autoencoder = Model(inputs=input_layer, outputs=decoded)\n",
        "\n",
        "autoencoder.compile(optimizer=Adam(learning_rate=0.001), loss='mse')\n",
        "\n",
        "autoencoder.fit(X_normal, X_normal, epochs=10, batch_size=32, shuffle=True, verbose=1)\n",
        "\n",
        "reconstructions = autoencoder.predict(X_scaled)\n",
        "mse = np.mean(np.square(X_scaled - reconstructions), axis=1)\n",
        "\n",
        "threshold = np.percentile(mse[y == 0], 95)\n",
        "autoencoder_preds = (mse > threshold).astype(int)  # 1 = fraud, 0 = normal\n",
        "\n",
        "print(\"\\n=== Autoencoder (Before SMOTE) ===\")\n",
        "print(\"Accuracy:\", accuracy_score(y, autoencoder_preds))\n",
        "print(\"Confusion Matrix:\")\n",
        "print(confusion_matrix(y, autoencoder_preds))\n",
        "print(\"\\nClassification Report:\")\n",
        "print(classification_report(y, autoencoder_preds))\n",
        "print(\"ROC-AUC Score:\", roc_auc_score(y, autoencoder_preds))"
      ],
      "metadata": {
        "colab": {
          "base_uri": "https://localhost:8080/"
        },
        "id": "ECpamoMiZLmY",
        "outputId": "0b1fd26a-c7a8-46a5-b7e6-c8682218ab78"
      },
      "execution_count": 12,
      "outputs": [
        {
          "output_type": "stream",
          "name": "stdout",
          "text": [
            "Epoch 1/10\n",
            "\u001b[1m28519/28519\u001b[0m \u001b[32m━━━━━━━━━━━━━━━━━━━━\u001b[0m\u001b[37m\u001b[0m \u001b[1m62s\u001b[0m 2ms/step - loss: 0.6517\n",
            "Epoch 2/10\n",
            "\u001b[1m28519/28519\u001b[0m \u001b[32m━━━━━━━━━━━━━━━━━━━━\u001b[0m\u001b[37m\u001b[0m \u001b[1m59s\u001b[0m 2ms/step - loss: 0.5494\n",
            "Epoch 3/10\n",
            "\u001b[1m28519/28519\u001b[0m \u001b[32m━━━━━━━━━━━━━━━━━━━━\u001b[0m\u001b[37m\u001b[0m \u001b[1m84s\u001b[0m 2ms/step - loss: 0.6187\n",
            "Epoch 4/10\n",
            "\u001b[1m28519/28519\u001b[0m \u001b[32m━━━━━━━━━━━━━━━━━━━━\u001b[0m\u001b[37m\u001b[0m \u001b[1m59s\u001b[0m 2ms/step - loss: 0.5488\n",
            "Epoch 5/10\n",
            "\u001b[1m28519/28519\u001b[0m \u001b[32m━━━━━━━━━━━━━━━━━━━━\u001b[0m\u001b[37m\u001b[0m \u001b[1m82s\u001b[0m 2ms/step - loss: 0.5974\n",
            "Epoch 6/10\n",
            "\u001b[1m28519/28519\u001b[0m \u001b[32m━━━━━━━━━━━━━━━━━━━━\u001b[0m\u001b[37m\u001b[0m \u001b[1m82s\u001b[0m 2ms/step - loss: 0.5744\n",
            "Epoch 7/10\n",
            "\u001b[1m28519/28519\u001b[0m \u001b[32m━━━━━━━━━━━━━━━━━━━━\u001b[0m\u001b[37m\u001b[0m \u001b[1m82s\u001b[0m 2ms/step - loss: 0.5917\n",
            "Epoch 8/10\n",
            "\u001b[1m28519/28519\u001b[0m \u001b[32m━━━━━━━━━━━━━━━━━━━━\u001b[0m\u001b[37m\u001b[0m \u001b[1m59s\u001b[0m 2ms/step - loss: 0.5705\n",
            "Epoch 9/10\n",
            "\u001b[1m28519/28519\u001b[0m \u001b[32m━━━━━━━━━━━━━━━━━━━━\u001b[0m\u001b[37m\u001b[0m \u001b[1m83s\u001b[0m 2ms/step - loss: 0.5500\n",
            "Epoch 10/10\n",
            "\u001b[1m28519/28519\u001b[0m \u001b[32m━━━━━━━━━━━━━━━━━━━━\u001b[0m\u001b[37m\u001b[0m \u001b[1m61s\u001b[0m 2ms/step - loss: 0.5395\n",
            "\u001b[1m31250/31250\u001b[0m \u001b[32m━━━━━━━━━━━━━━━━━━━━\u001b[0m\u001b[37m\u001b[0m \u001b[1m40s\u001b[0m 1ms/step\n",
            "\n",
            "=== Autoencoder (Before SMOTE) ===\n",
            "Accuracy: 0.882632\n",
            "Confusion Matrix:\n",
            "[[866967  45630]\n",
            " [ 71738  15665]]\n",
            "\n",
            "Classification Report:\n",
            "              precision    recall  f1-score   support\n",
            "\n",
            "         0.0       0.92      0.95      0.94    912597\n",
            "         1.0       0.26      0.18      0.21     87403\n",
            "\n",
            "    accuracy                           0.88   1000000\n",
            "   macro avg       0.59      0.56      0.57   1000000\n",
            "weighted avg       0.87      0.88      0.87   1000000\n",
            "\n",
            "ROC-AUC Score: 0.5646135466397647\n"
          ]
        }
      ]
    },
    {
      "cell_type": "markdown",
      "source": [
        "# **After SMOTE**"
      ],
      "metadata": {
        "id": "4TawR2v8TQtV"
      }
    },
    {
      "cell_type": "code",
      "source": [
        "smote = SMOTE(random_state=42)\n",
        "X_resampled, y_resampled = smote.fit_resample(X_scaled, y)"
      ],
      "metadata": {
        "id": "OnDgyZ69THUN"
      },
      "execution_count": 13,
      "outputs": []
    },
    {
      "cell_type": "markdown",
      "source": [
        "## PCA"
      ],
      "metadata": {
        "id": "zu3y1nTTTUUV"
      }
    },
    {
      "cell_type": "code",
      "source": [
        "pca = PCA(n_components=5)\n",
        "X_pca = pca.fit_transform(X_resampled)"
      ],
      "metadata": {
        "id": "Ejm1NQvqS9d1"
      },
      "execution_count": 14,
      "outputs": []
    },
    {
      "cell_type": "code",
      "source": [
        "X_train, X_test, y_train, y_test = train_test_split(X_pca, y_resampled, test_size=0.3, random_state=42)"
      ],
      "metadata": {
        "id": "jGD0JgBaS9g9"
      },
      "execution_count": 15,
      "outputs": []
    },
    {
      "cell_type": "markdown",
      "source": [
        "# Train Supervised Models"
      ],
      "metadata": {
        "id": "FAjgf3dr7nqn"
      }
    },
    {
      "cell_type": "markdown",
      "source": [
        "## Logistic Regression"
      ],
      "metadata": {
        "id": "-V1wM2Up7rRH"
      }
    },
    {
      "cell_type": "code",
      "source": [
        "log_model = LogisticRegression()\n",
        "log_model.fit(X_train, y_train)\n",
        "log_preds = log_model.predict(X_test)"
      ],
      "metadata": {
        "id": "MMUbLkNa7o1H"
      },
      "execution_count": 16,
      "outputs": []
    },
    {
      "cell_type": "markdown",
      "source": [
        "## Random Forest\n"
      ],
      "metadata": {
        "id": "CMZEwaoH7xSX"
      }
    },
    {
      "cell_type": "code",
      "source": [
        "rf_model = RandomForestClassifier()\n",
        "rf_model.fit(X_train, y_train)\n",
        "rf_preds = rf_model.predict(X_test)"
      ],
      "metadata": {
        "id": "aIUSWF2v7y0X"
      },
      "execution_count": 17,
      "outputs": []
    },
    {
      "cell_type": "markdown",
      "source": [
        "## XGBoost"
      ],
      "metadata": {
        "id": "CczC8BJP722f"
      }
    },
    {
      "cell_type": "code",
      "source": [
        "xgb_model = XGBClassifier(use_label_encoder=False, eval_metric='logloss')\n",
        "xgb_model.fit(X_train, y_train)\n",
        "xgb_preds = xgb_model.predict(X_test)"
      ],
      "metadata": {
        "colab": {
          "base_uri": "https://localhost:8080/"
        },
        "id": "B6PcLopl9kiP",
        "outputId": "ef68a3c7-3e4c-49d7-a8eb-555e9cfdf936"
      },
      "execution_count": 18,
      "outputs": [
        {
          "output_type": "stream",
          "name": "stderr",
          "text": [
            "/usr/local/lib/python3.11/dist-packages/xgboost/training.py:183: UserWarning: [10:21:57] WARNING: /workspace/src/learner.cc:738: \n",
            "Parameters: { \"use_label_encoder\" } are not used.\n",
            "\n",
            "  bst.update(dtrain, iteration=i, fobj=obj)\n"
          ]
        }
      ]
    },
    {
      "cell_type": "markdown",
      "source": [
        "# Evaluation Function"
      ],
      "metadata": {
        "id": "1FMYUUA_9tsv"
      }
    },
    {
      "cell_type": "code",
      "source": [
        "from sklearn.metrics import (\n",
        "    confusion_matrix, classification_report, roc_auc_score,\n",
        "    roc_curve, ConfusionMatrixDisplay\n",
        ")\n",
        "import matplotlib.pyplot as plt\n",
        "\n",
        "# Simplified evaluation function: print metrics + confusion matrix\n",
        "def evaluate_model(name, y_true, y_pred, ax_cm=None):\n",
        "    print(f\"\\n{name} Results\")\n",
        "    print(confusion_matrix(y_true, y_pred))\n",
        "    print(classification_report(y_true, y_pred))\n",
        "    auc = roc_auc_score(y_true, y_pred)\n",
        "    print(\"AUC Score:\", auc)\n",
        "\n",
        "    # Confusion matrix plotting\n",
        "    if ax_cm:\n",
        "        ConfusionMatrixDisplay.from_predictions(y_true, y_pred, ax=ax_cm, cmap='Blues')\n",
        "        ax_cm.set_title(f'{name} Confusion Matrix')\n",
        "\n",
        "# Generate probabilities for ROC curve\n",
        "log_probs = log_model.predict_proba(X_test)[:, 1]\n",
        "rf_probs = rf_model.predict_proba(X_test)[:, 1]\n",
        "xgb_probs = xgb_model.predict_proba(X_test)[:, 1]\n",
        "\n",
        "# ----------------------------\n",
        "# 1. CONFUSION MATRIX PLOTS\n",
        "# ----------------------------\n",
        "fig_cm, axes_cm = plt.subplots(1, 3, figsize=(18, 5))\n",
        "\n",
        "evaluate_model(\"Logistic Regression\", y_test, log_preds, ax_cm=axes_cm[0])\n",
        "evaluate_model(\"Random Forest\", y_test, rf_preds, ax_cm=axes_cm[1])\n",
        "evaluate_model(\"XGBoost\", y_test, xgb_preds, ax_cm=axes_cm[2])\n",
        "\n",
        "plt.tight_layout()\n",
        "plt.show()\n",
        "\n",
        "# ----------------------------\n",
        "# 2. ROC CURVE COMPARISON PLOT\n",
        "# ----------------------------\n",
        "fpr_log, tpr_log, _ = roc_curve(y_test, log_probs)\n",
        "fpr_rf, tpr_rf, _ = roc_curve(y_test, rf_probs)\n",
        "fpr_xgb, tpr_xgb, _ = roc_curve(y_test, xgb_probs)\n",
        "\n",
        "auc_log = roc_auc_score(y_test, log_probs)\n",
        "auc_rf = roc_auc_score(y_test, rf_probs)\n",
        "auc_xgb = roc_auc_score(y_test, xgb_probs)\n",
        "\n",
        "plt.figure(figsize=(8, 6))\n",
        "plt.plot(fpr_log, tpr_log, label=f\"Logistic Regression (AUC = {auc_log:.2f})\")\n",
        "plt.plot(fpr_rf, tpr_rf, label=f\"Random Forest (AUC = {auc_rf:.2f})\")\n",
        "plt.plot(fpr_xgb, tpr_xgb, label=f\"XGBoost (AUC = {auc_xgb:.2f})\")\n",
        "\n",
        "plt.plot([0, 1], [0, 1], 'k--', label=\"Random Classifier\")\n",
        "plt.xlabel('False Positive Rate')\n",
        "plt.ylabel('True Positive Rate')\n",
        "plt.title('ROC Curve Comparison')\n",
        "plt.legend(loc=\"lower right\")\n",
        "plt.grid()\n",
        "plt.show()\n"
      ],
      "metadata": {
        "colab": {
          "base_uri": "https://localhost:8080/",
          "height": 1000
        },
        "id": "T6DmiIf3-J43",
        "outputId": "e5228848-6b6f-4281-a1b3-877fa1079be3"
      },
      "execution_count": 19,
      "outputs": [
        {
          "output_type": "stream",
          "name": "stdout",
          "text": [
            "\n",
            "Logistic Regression Results\n",
            "[[250869  23078]\n",
            " [ 20887 252725]]\n",
            "              precision    recall  f1-score   support\n",
            "\n",
            "         0.0       0.92      0.92      0.92    273947\n",
            "         1.0       0.92      0.92      0.92    273612\n",
            "\n",
            "    accuracy                           0.92    547559\n",
            "   macro avg       0.92      0.92      0.92    547559\n",
            "weighted avg       0.92      0.92      0.92    547559\n",
            "\n",
            "AUC Score: 0.9197097007108184\n",
            "\n",
            "Random Forest Results\n",
            "[[273584    363]\n",
            " [    26 273586]]\n",
            "              precision    recall  f1-score   support\n",
            "\n",
            "         0.0       1.00      1.00      1.00    273947\n",
            "         1.0       1.00      1.00      1.00    273612\n",
            "\n",
            "    accuracy                           1.00    547559\n",
            "   macro avg       1.00      1.00      1.00    547559\n",
            "weighted avg       1.00      1.00      1.00    547559\n",
            "\n",
            "AUC Score: 0.9992899505499255\n",
            "\n",
            "XGBoost Results\n",
            "[[273058    889]\n",
            " [    64 273548]]\n",
            "              precision    recall  f1-score   support\n",
            "\n",
            "         0.0       1.00      1.00      1.00    273947\n",
            "         1.0       1.00      1.00      1.00    273612\n",
            "\n",
            "    accuracy                           1.00    547559\n",
            "   macro avg       1.00      1.00      1.00    547559\n",
            "weighted avg       1.00      1.00      1.00    547559\n",
            "\n",
            "AUC Score: 0.998260469435445\n"
          ]
        },
        {
          "output_type": "display_data",
          "data": {
            "text/plain": [
              "<Figure size 1800x500 with 6 Axes>"
            ],
            "image/png": "[encoded data removed]"
          },
          "metadata": {}
        },
        {
          "output_type": "display_data",
          "data": {
            "text/plain": [
              "<Figure size 800x600 with 1 Axes>"
            ],
            "image/png": "[encoded data removed]"
          },
          "metadata": {}
        }
      ]
    },
    {
      "cell_type": "markdown",
      "source": [
        "# Unsupervised Models"
      ],
      "metadata": {
        "id": "4Jog8rtj-t_Y"
      }
    },
    {
      "cell_type": "markdown",
      "source": [
        "## Isolation Forest"
      ],
      "metadata": {
        "id": "LuVVB26l-zaA"
      }
    },
    {
      "cell_type": "code",
      "source": [
        "iso = IsolationForest(contamination=0.05)\n",
        "unsupervised_preds = iso.fit_predict(X_scaled)\n",
        "unsupervised_preds = np.where(unsupervised_preds == -1, 1, 0)\n",
        "print(\"Isolation Forest Accuracy:\", accuracy_score(y, unsupervised_preds))\n"
      ],
      "metadata": {
        "colab": {
          "base_uri": "https://localhost:8080/"
        },
        "id": "Ju0BX0xO-wM_",
        "outputId": "50ded7d7-3a90-46ce-c771-dba1bfddf6e5"
      },
      "execution_count": 20,
      "outputs": [
        {
          "output_type": "stream",
          "name": "stdout",
          "text": [
            "Isolation Forest Accuracy: 0.884047\n"
          ]
        }
      ]
    },
    {
      "cell_type": "markdown",
      "source": [
        "## Autoencoder"
      ],
      "metadata": {
        "id": "XPwed8VZ-9SR"
      }
    },
    {
      "cell_type": "code",
      "source": [
        "X_normal = X_scaled[y == 0]\n",
        "input_dim = X_scaled.shape[1]\n",
        "encoding_dim = 5\n",
        "\n",
        "# Build Autoencoder\n",
        "input_layer = Input(shape=(input_dim,))\n",
        "encoded = Dense(encoding_dim, activation='relu')(input_layer)\n",
        "decoded = Dense(input_dim, activation='sigmoid')(encoded)\n",
        "autoencoder = Model(inputs=input_layer, outputs=decoded)\n",
        "\n",
        "autoencoder.compile(optimizer=Adam(0.001), loss='mse')\n",
        "autoencoder.fit(X_normal, X_normal, epochs=10, batch_size=32, shuffle=True, verbose=1)\n",
        "\n",
        "# Reconstruction error\n",
        "reconstructions = autoencoder.predict(X_scaled)\n",
        "mse = np.mean(np.square(X_scaled - reconstructions), axis=1)\n",
        "threshold = np.percentile(mse[y == 0], 95)\n",
        "autoencoder_preds = (mse > threshold).astype(int)\n",
        "\n",
        "print(\"Autoencoder Accuracy:\", accuracy_score(y, autoencoder_preds))\n",
        "print(\"Autoencoder AUC:\", roc_auc_score(y, autoencoder_preds))\n"
      ],
      "metadata": {
        "colab": {
          "base_uri": "https://localhost:8080/"
        },
        "id": "3fDfhAKh--LH",
        "outputId": "14daec82-a8bf-4e83-94e3-2505fdbca73b"
      },
      "execution_count": 21,
      "outputs": [
        {
          "output_type": "stream",
          "name": "stdout",
          "text": [
            "Epoch 1/10\n",
            "\u001b[1m28519/28519\u001b[0m \u001b[32m━━━━━━━━━━━━━━━━━━━━\u001b[0m\u001b[37m\u001b[0m \u001b[1m64s\u001b[0m 2ms/step - loss: 0.6183\n",
            "Epoch 2/10\n",
            "\u001b[1m28519/28519\u001b[0m \u001b[32m━━━━━━━━━━━━━━━━━━━━\u001b[0m\u001b[37m\u001b[0m \u001b[1m62s\u001b[0m 2ms/step - loss: 0.6357\n",
            "Epoch 3/10\n",
            "\u001b[1m28519/28519\u001b[0m \u001b[32m━━━━━━━━━━━━━━━━━━━━\u001b[0m\u001b[37m\u001b[0m \u001b[1m62s\u001b[0m 2ms/step - loss: 0.5654\n",
            "Epoch 4/10\n",
            "\u001b[1m28519/28519\u001b[0m \u001b[32m━━━━━━━━━━━━━━━━━━━━\u001b[0m\u001b[37m\u001b[0m \u001b[1m81s\u001b[0m 2ms/step - loss: 0.5441\n",
            "Epoch 5/10\n",
            "\u001b[1m28519/28519\u001b[0m \u001b[32m━━━━━━━━━━━━━━━━━━━━\u001b[0m\u001b[37m\u001b[0m \u001b[1m61s\u001b[0m 2ms/step - loss: 0.5451\n",
            "Epoch 6/10\n",
            "\u001b[1m28519/28519\u001b[0m \u001b[32m━━━━━━━━━━━━━━━━━━━━\u001b[0m\u001b[37m\u001b[0m \u001b[1m82s\u001b[0m 2ms/step - loss: 0.5709\n",
            "Epoch 7/10\n",
            "\u001b[1m28519/28519\u001b[0m \u001b[32m━━━━━━━━━━━━━━━━━━━━\u001b[0m\u001b[37m\u001b[0m \u001b[1m61s\u001b[0m 2ms/step - loss: 0.5502\n",
            "Epoch 8/10\n",
            "\u001b[1m28519/28519\u001b[0m \u001b[32m━━━━━━━━━━━━━━━━━━━━\u001b[0m\u001b[37m\u001b[0m \u001b[1m60s\u001b[0m 2ms/step - loss: 0.5640\n",
            "Epoch 9/10\n",
            "\u001b[1m28519/28519\u001b[0m \u001b[32m━━━━━━━━━━━━━━━━━━━━\u001b[0m\u001b[37m\u001b[0m \u001b[1m84s\u001b[0m 2ms/step - loss: 0.5999\n",
            "Epoch 10/10\n",
            "\u001b[1m28519/28519\u001b[0m \u001b[32m━━━━━━━━━━━━━━━━━━━━\u001b[0m\u001b[37m\u001b[0m \u001b[1m60s\u001b[0m 2ms/step - loss: 0.5544\n",
            "\u001b[1m31250/31250\u001b[0m \u001b[32m━━━━━━━━━━━━━━━━━━━━\u001b[0m\u001b[37m\u001b[0m \u001b[1m41s\u001b[0m 1ms/step\n",
            "Autoencoder Accuracy: 0.885476\n",
            "Autoencoder AUC: 0.5808830110746239\n"
          ]
        }
      ]
    },
    {
      "cell_type": "code",
      "source": [
        "results_df = pd.DataFrame()\n",
        "results_df['Actual_Fraud'] = y.reset_index(drop=True)\n",
        "\n",
        "# Add predictions from all models\n",
        "results_df['Logistic_Pred'] = pd.Series(log_preds)\n",
        "results_df['RandomForest_Pred'] = pd.Series(rf_preds)\n",
        "results_df['XGBoost_Pred'] = pd.Series(xgb_preds)\n",
        "\n",
        "# Add unsupervised model predictions (full dataset)\n",
        "results_df['IsolationForest_Pred'] = unsupervised_preds\n",
        "results_df['Autoencoder_Pred'] = autoencoder_preds\n",
        "\n",
        "# Show the first 10 rows\n",
        "results_df.head(10)\n",
        "\n"
      ],
      "metadata": {
        "colab": {
          "base_uri": "https://localhost:8080/",
          "height": 363
        },
        "id": "cM5pnz8dXURE",
        "outputId": "af9db5ef-6daa-4010-c1df-920314f72350"
      },
      "execution_count": 22,
      "outputs": [
        {
          "output_type": "execute_result",
          "data": {
            "text/plain": [
              "   Actual_Fraud  Logistic_Pred  RandomForest_Pred  XGBoost_Pred  \\\n",
              "0           0.0            1.0                1.0           1.0   \n",
              "1           0.0            0.0                0.0           0.0   \n",
              "2           0.0            1.0                1.0           1.0   \n",
              "3           0.0            0.0                0.0           0.0   \n",
              "4           0.0            0.0                0.0           0.0   \n",
              "5           0.0            1.0                1.0           1.0   \n",
              "6           0.0            1.0                1.0           1.0   \n",
              "7           0.0            0.0                0.0           0.0   \n",
              "8           0.0            1.0                1.0           1.0   \n",
              "9           0.0            0.0                0.0           0.0   \n",
              "\n",
              "   IsolationForest_Pred  Autoencoder_Pred  \n",
              "0                     0                 0  \n",
              "1                     0                 0  \n",
              "2                     0                 0  \n",
              "3                     0                 0  \n",
              "4                     0                 0  \n",
              "5                     0                 0  \n",
              "6                     0                 0  \n",
              "7                     0                 0  \n",
              "8                     0                 1  \n",
              "9                     0                 0  "
            ],
            "text/html": [
              "\n",
              "  <div id=\"df-24312fa9-ab31-40a6-a25a-79e6cf360cd6\" class=\"colab-df-container\">\n",
              "    <div>\n",
              "<style scoped>\n",
              "    .dataframe tbody tr th:only-of-type {\n",
              "        vertical-align: middle;\n",
              "    }\n",
              "\n",
              "    .dataframe tbody tr th {\n",
              "        vertical-align: top;\n",
              "    }\n",
              "\n",
              "    .dataframe thead th {\n",
              "        text-align: right;\n",
              "    }\n",
              "</style>\n",
              "<table border=\"1\" class=\"dataframe\">\n",
              "  <thead>\n",
              "    <tr style=\"text-align: right;\">\n",
              "      <th></th>\n",
              "      <th>Actual_Fraud</th>\n",
              "      <th>Logistic_Pred</th>\n",
              "      <th>RandomForest_Pred</th>\n",
              "      <th>XGBoost_Pred</th>\n",
              "      <th>IsolationForest_Pred</th>\n",
              "      <th>Autoencoder_Pred</th>\n",
              "    </tr>\n",
              "  </thead>\n",
              "  <tbody>\n",
              "    <tr>\n",
              "      <th>0</th>\n",
              "      <td>0.0</td>\n",
              "      <td>1.0</td>\n",
              "      <td>1.0</td>\n",
              "      <td>1.0</td>\n",
              "      <td>0</td>\n",
              "      <td>0</td>\n",
              "    </tr>\n",
              "    <tr>\n",
              "      <th>1</th>\n",
              "      <td>0.0</td>\n",
              "      <td>0.0</td>\n",
              "      <td>0.0</td>\n",
              "      <td>0.0</td>\n",
              "      <td>0</td>\n",
              "      <td>0</td>\n",
              "    </tr>\n",
              "    <tr>\n",
              "      <th>2</th>\n",
              "      <td>0.0</td>\n",
              "      <td>1.0</td>\n",
              "      <td>1.0</td>\n",
              "      <td>1.0</td>\n",
              "      <td>0</td>\n",
              "      <td>0</td>\n",
              "    </tr>\n",
              "    <tr>\n",
              "      <th>3</th>\n",
              "      <td>0.0</td>\n",
              "      <td>0.0</td>\n",
              "      <td>0.0</td>\n",
              "      <td>0.0</td>\n",
              "      <td>0</td>\n",
              "      <td>0</td>\n",
              "    </tr>\n",
              "    <tr>\n",
              "      <th>4</th>\n",
              "      <td>0.0</td>\n",
              "      <td>0.0</td>\n",
              "      <td>0.0</td>\n",
              "      <td>0.0</td>\n",
              "      <td>0</td>\n",
              "      <td>0</td>\n",
              "    </tr>\n",
              "    <tr>\n",
              "      <th>5</th>\n",
              "      <td>0.0</td>\n",
              "      <td>1.0</td>\n",
              "      <td>1.0</td>\n",
              "      <td>1.0</td>\n",
              "      <td>0</td>\n",
              "      <td>0</td>\n",
              "    </tr>\n",
              "    <tr>\n",
              "      <th>6</th>\n",
              "      <td>0.0</td>\n",
              "      <td>1.0</td>\n",
              "      <td>1.0</td>\n",
              "      <td>1.0</td>\n",
              "      <td>0</td>\n",
              "      <td>0</td>\n",
              "    </tr>\n",
              "    <tr>\n",
              "      <th>7</th>\n",
              "      <td>0.0</td>\n",
              "      <td>0.0</td>\n",
              "      <td>0.0</td>\n",
              "      <td>0.0</td>\n",
              "      <td>0</td>\n",
              "      <td>0</td>\n",
              "    </tr>\n",
              "    <tr>\n",
              "      <th>8</th>\n",
              "      <td>0.0</td>\n",
              "      <td>1.0</td>\n",
              "      <td>1.0</td>\n",
              "      <td>1.0</td>\n",
              "      <td>0</td>\n",
              "      <td>1</td>\n",
              "    </tr>\n",
              "    <tr>\n",
              "      <th>9</th>\n",
              "      <td>0.0</td>\n",
              "      <td>0.0</td>\n",
              "      <td>0.0</td>\n",
              "      <td>0.0</td>\n",
              "      <td>0</td>\n",
              "      <td>0</td>\n",
              "    </tr>\n",
              "  </tbody>\n",
              "</table>\n",
              "</div>\n",
              "    <div class=\"colab-df-buttons\">\n",
              "\n",
              "  <div class=\"colab-df-container\">\n",
              "    <button class=\"colab-df-convert\" onclick=\"convertToInteractive('df-24312fa9-ab31-40a6-a25a-79e6cf360cd6')\"\n",
              "            title=\"Convert this dataframe to an interactive table.\"\n",
              "            style=\"display:none;\">\n",
              "\n",
              "  <svg xmlns=\"http://www.w3.org/2000/svg\" height=\"24px\" viewBox=\"0 -960 960 960\">\n",
              "    <path d=\"M120-120v-720h720v720H120Zm60-500h600v-160H180v160Zm220 220h160v-160H400v160Zm0 220h160v-160H400v160ZM180-400h160v-160H180v160Zm440 0h160v-160H620v160ZM180-180h160v-160H180v160Zm440 0h160v-160H620v160Z\"/>\n",
              "  </svg>\n",
              "    </button>\n",
              "\n",
              "  <style>\n",
              "    .colab-df-container {\n",
              "      display:flex;\n",
              "      gap: 12px;\n",
              "    }\n",
              "\n",
              "    .colab-df-convert {\n",
              "      background-color: #E8F0FE;\n",
              "      border: none;\n",
              "      border-radius: 50%;\n",
              "      cursor: pointer;\n",
              "      display: none;\n",
              "      fill: #1967D2;\n",
              "      height: 32px;\n",
              "      padding: 0 0 0 0;\n",
              "      width: 32px;\n",
              "    }\n",
              "\n",
              "    .colab-df-convert:hover {\n",
              "      background-color: #E2EBFA;\n",
              "      box-shadow: 0px 1px 2px rgba(60, 64, 67, 0.3), 0px 1px 3px 1px rgba(60, 64, 67, 0.15);\n",
              "      fill: #174EA6;\n",
              "    }\n",
              "\n",
              "    .colab-df-buttons div {\n",
              "      margin-bottom: 4px;\n",
              "    }\n",
              "\n",
              "    [theme=dark] .colab-df-convert {\n",
              "      background-color: #3B4455;\n",
              "      fill: #D2E3FC;\n",
              "    }\n",
              "\n",
              "    [theme=dark] .colab-df-convert:hover {\n",
              "      background-color: #434B5C;\n",
              "      box-shadow: 0px 1px 3px 1px rgba(0, 0, 0, 0.15);\n",
              "      filter: drop-shadow(0px 1px 2px rgba(0, 0, 0, 0.3));\n",
              "      fill: #FFFFFF;\n",
              "    }\n",
              "  </style>\n",
              "\n",
              "    <script>\n",
              "      const buttonEl =\n",
              "        document.querySelector('#df-24312fa9-ab31-40a6-a25a-79e6cf360cd6 button.colab-df-convert');\n",
              "      buttonEl.style.display =\n",
              "        google.colab.kernel.accessAllowed ? 'block' : 'none';\n",
              "\n",
              "      async function convertToInteractive(key) {\n",
              "        const element = document.querySelector('#df-24312fa9-ab31-40a6-a25a-79e6cf360cd6');\n",
              "        const dataTable =\n",
              "          await google.colab.kernel.invokeFunction('convertToInteractive',\n",
              "                                                    [key], {});\n",
              "        if (!dataTable) return;\n",
              "\n",
              "        const docLinkHtml = 'Like what you see? Visit the ' +\n",
              "          '<a target=\"_blank\" href=https://colab.research.google.com/notebooks/data_table.ipynb>data table notebook</a>'\n",
              "          + ' to learn more about interactive tables.';\n",
              "        element.innerHTML = '';\n",
              "        dataTable['output_type'] = 'display_data';\n",
              "        await google.colab.output.renderOutput(dataTable, element);\n",
              "        const docLink = document.createElement('div');\n",
              "        docLink.innerHTML = docLinkHtml;\n",
              "        element.appendChild(docLink);\n",
              "      }\n",
              "    </script>\n",
              "  </div>\n",
              "\n",
              "\n",
              "    <div id=\"df-e8e353d9-be69-4542-915e-b456410a4d4f\">\n",
              "      <button class=\"colab-df-quickchart\" onclick=\"quickchart('df-e8e353d9-be69-4542-915e-b456410a4d4f')\"\n",
              "                title=\"Suggest charts\"\n",
              "                style=\"display:none;\">\n",
              "\n",
              "<svg xmlns=\"http://www.w3.org/2000/svg\" height=\"24px\"viewBox=\"0 0 24 24\"\n",
              "     width=\"24px\">\n",
              "    <g>\n",
              "        <path d=\"M19 3H5c-1.1 0-2 .9-2 2v14c0 1.1.9 2 2 2h14c1.1 0 2-.9 2-2V5c0-1.1-.9-2-2-2zM9 17H7v-7h2v7zm4 0h-2V7h2v10zm4 0h-2v-4h2v4z\"/>\n",
              "    </g>\n",
              "</svg>\n",
              "      </button>\n",
              "\n",
              "<style>\n",
              "  .colab-df-quickchart {\n",
              "      --bg-color: #E8F0FE;\n",
              "      --fill-color: #1967D2;\n",
              "      --hover-bg-color: #E2EBFA;\n",
              "      --hover-fill-color: #174EA6;\n",
              "      --disabled-fill-color: #AAA;\n",
              "      --disabled-bg-color: #DDD;\n",
              "  }\n",
              "\n",
              "  [theme=dark] .colab-df-quickchart {\n",
              "      --bg-color: #3B4455;\n",
              "      --fill-color: #D2E3FC;\n",
              "      --hover-bg-color: #434B5C;\n",
              "      --hover-fill-color: #FFFFFF;\n",
              "      --disabled-bg-color: #3B4455;\n",
              "      --disabled-fill-color: #666;\n",
              "  }\n",
              "\n",
              "  .colab-df-quickchart {\n",
              "    background-color: var(--bg-color);\n",
              "    border: none;\n",
              "    border-radius: 50%;\n",
              "    cursor: pointer;\n",
              "    display: none;\n",
              "    fill: var(--fill-color);\n",
              "    height: 32px;\n",
              "    padding: 0;\n",
              "    width: 32px;\n",
              "  }\n",
              "\n",
              "  .colab-df-quickchart:hover {\n",
              "    background-color: var(--hover-bg-color);\n",
              "    box-shadow: 0 1px 2px rgba(60, 64, 67, 0.3), 0 1px 3px 1px rgba(60, 64, 67, 0.15);\n",
              "    fill: var(--button-hover-fill-color);\n",
              "  }\n",
              "\n",
              "  .colab-df-quickchart-complete:disabled,\n",
              "  .colab-df-quickchart-complete:disabled:hover {\n",
              "    background-color: var(--disabled-bg-color);\n",
              "    fill: var(--disabled-fill-color);\n",
              "    box-shadow: none;\n",
              "  }\n",
              "\n",
              "  .colab-df-spinner {\n",
              "    border: 2px solid var(--fill-color);\n",
              "    border-color: transparent;\n",
              "    border-bottom-color: var(--fill-color);\n",
              "    animation:\n",
              "      spin 1s steps(1) infinite;\n",
              "  }\n",
              "\n",
              "  @keyframes spin {\n",
              "    0% {\n",
              "      border-color: transparent;\n",
              "      border-bottom-color: var(--fill-color);\n",
              "      border-left-color: var(--fill-color);\n",
              "    }\n",
              "    20% {\n",
              "      border-color: transparent;\n",
              "      border-left-color: var(--fill-color);\n",
              "      border-top-color: var(--fill-color);\n",
              "    }\n",
              "    30% {\n",
              "      border-color: transparent;\n",
              "      border-left-color: var(--fill-color);\n",
              "      border-top-color: var(--fill-color);\n",
              "      border-right-color: var(--fill-color);\n",
              "    }\n",
              "    40% {\n",
              "      border-color: transparent;\n",
              "      border-right-color: var(--fill-color);\n",
              "      border-top-color: var(--fill-color);\n",
              "    }\n",
              "    60% {\n",
              "      border-color: transparent;\n",
              "      border-right-color: var(--fill-color);\n",
              "    }\n",
              "    80% {\n",
              "      border-color: transparent;\n",
              "      border-right-color: var(--fill-color);\n",
              "      border-bottom-color: var(--fill-color);\n",
              "    }\n",
              "    90% {\n",
              "      border-color: transparent;\n",
              "      border-bottom-color: var(--fill-color);\n",
              "    }\n",
              "  }\n",
              "</style>\n",
              "\n",
              "      <script>\n",
              "        async function quickchart(key) {\n",
              "          const quickchartButtonEl =\n",
              "            document.querySelector('#' + key + ' button');\n",
              "          quickchartButtonEl.disabled = true;  // To prevent multiple clicks.\n",
              "          quickchartButtonEl.classList.add('colab-df-spinner');\n",
              "          try {\n",
              "            const charts = await google.colab.kernel.invokeFunction(\n",
              "                'suggestCharts', [key], {});\n",
              "          } catch (error) {\n",
              "            console.error('Error during call to suggestCharts:', error);\n",
              "          }\n",
              "          quickchartButtonEl.classList.remove('colab-df-spinner');\n",
              "          quickchartButtonEl.classList.add('colab-df-quickchart-complete');\n",
              "        }\n",
              "        (() => {\n",
              "          let quickchartButtonEl =\n",
              "            document.querySelector('#df-e8e353d9-be69-4542-915e-b456410a4d4f button');\n",
              "          quickchartButtonEl.style.display =\n",
              "            google.colab.kernel.accessAllowed ? 'block' : 'none';\n",
              "        })();\n",
              "      </script>\n",
              "    </div>\n",
              "\n",
              "    </div>\n",
              "  </div>\n"
            ],
            "application/vnd.google.colaboratory.intrinsic+json": {
              "type": "dataframe",
              "variable_name": "results_df"
            }
          },
          "metadata": {},
          "execution_count": 22
        }
      ]
    },
    {
      "cell_type": "markdown",
      "source": [
        "# Comparison of Models (Before and After SMOTE)"
      ],
      "metadata": {
        "id": "Ihzqo4TR0N4M"
      }
    },
    {
      "cell_type": "code",
      "source": [
        "import pandas as pd\n",
        "from sklearn.metrics import accuracy_score, precision_score, recall_score, f1_score, roc_auc_score"
      ],
      "metadata": {
        "id": "kVvi2nw4Aeks"
      },
      "execution_count": 23,
      "outputs": []
    },
    {
      "cell_type": "code",
      "source": [
        "models = ['Logistic Regression', 'Random Forest', 'XGBoost', 'Isolation Forest', 'Autoencoder']\n",
        "\n",
        "\n",
        "accuracy_before = [accuracy_score(y_test_imb, log_preds_imb),\n",
        "                   accuracy_score(y_test_imb, rf_preds_imb),\n",
        "                   accuracy_score(y_test_imb, xgb_preds_imb),\n",
        "                   accuracy_score(y, unsupervised_preds),\n",
        "                   accuracy_score(y, autoencoder_preds)\n",
        "                   ]\n",
        "\n",
        "accuracy_after = [accuracy_score(y_test, log_preds),\n",
        "                   accuracy_score(y_test, rf_preds),\n",
        "                   accuracy_score(y_test, xgb_preds),\n",
        "                   accuracy_score(y, unsupervised_preds),\n",
        "                   accuracy_score(y, autoencoder_preds)\n",
        "                   ]\n",
        "\n",
        "precision_before = [precision_score(y_test_imb, log_preds_imb),\n",
        "                   precision_score(y_test_imb, rf_preds_imb),\n",
        "                   precision_score(y_test_imb, xgb_preds_imb),\n",
        "                   precision_score(y, unsupervised_preds),\n",
        "                   precision_score(y, autoencoder_preds)\n",
        "                   ]\n",
        "\n",
        "precision_after = [precision_score(y_test, log_preds),\n",
        "                   precision_score(y_test, rf_preds),\n",
        "                   precision_score(y_test, xgb_preds),\n",
        "                   precision_score(y, unsupervised_preds),\n",
        "                   precision_score(y, autoencoder_preds)\n",
        "                   ]\n",
        "\n",
        "recall_before = [recall_score(y_test_imb, log_preds_imb),\n",
        "                   recall_score(y_test_imb, rf_preds_imb),\n",
        "                   recall_score(y_test_imb, xgb_preds_imb),\n",
        "                   recall_score(y, unsupervised_preds),\n",
        "                   recall_score(y, autoencoder_preds)\n",
        "                   ]\n",
        "\n",
        "recall_after = [recall_score(y_test, log_preds),\n",
        "                   recall_score(y_test, rf_preds),\n",
        "                   recall_score(y_test, xgb_preds),\n",
        "                   recall_score(y, unsupervised_preds),\n",
        "                   recall_score(y, autoencoder_preds)\n",
        "                   ]\n",
        "\n",
        "\n",
        "f1_before = [f1_score(y_test_imb, log_preds_imb),\n",
        "                   f1_score(y_test_imb, rf_preds_imb),\n",
        "                   f1_score(y_test_imb, xgb_preds_imb),\n",
        "                   f1_score(y, unsupervised_preds),\n",
        "                   f1_score(y, autoencoder_preds)\n",
        "                   ]\n",
        "\n",
        "f1_after = [f1_score(y_test, log_preds),\n",
        "                   f1_score(y_test, rf_preds),\n",
        "                   f1_score(y_test, xgb_preds),\n",
        "                   f1_score(y, unsupervised_preds),\n",
        "                   f1_score(y, autoencoder_preds)\n",
        "                   ]\n",
        "\n",
        "roc_auc_before = [roc_auc_score(y_test_imb, log_preds_imb),\n",
        "                   roc_auc_score(y_test_imb, rf_preds_imb),\n",
        "                   roc_auc_score(y_test_imb, xgb_preds_imb),\n",
        "                   roc_auc_score(y, unsupervised_preds),\n",
        "                   roc_auc_score(y, autoencoder_preds)\n",
        "                   ]\n",
        "\n",
        "roc_auc_after = [roc_auc_score(y_test, log_preds),\n",
        "                   roc_auc_score(y_test, rf_preds),\n",
        "                   roc_auc_score(y_test, xgb_preds),\n",
        "                   roc_auc_score(y, unsupervised_preds),\n",
        "                   roc_auc_score(y, autoencoder_preds)\n",
        "                   ]\n",
        "\n",
        "\n",
        "columns = pd.MultiIndex.from_tuples([\n",
        "    ('', 'Model'),\n",
        "    ('Accuracy', 'Before SMOTE'),\n",
        "    ('Accuracy', 'After SMOTE'),\n",
        "    ('Precision', 'Before SMOTE'),\n",
        "    ('Precision', 'After SMOTE'),\n",
        "    ('Recall', 'Before SMOTE'),\n",
        "    ('Recall', 'After SMOTE'),\n",
        "    ('F1-Score', 'Before SMOTE'),\n",
        "    ('F1-Score', 'After SMOTE'),\n",
        "    ('ROC-AUC Score', 'Before SMOTE'),\n",
        "    ('ROC-AUC Score', 'After SMOTE')\n",
        "])\n",
        "\n",
        "compare_data = list(zip(models, accuracy_before, accuracy_after,\n",
        "                precision_before, precision_after,\n",
        "                recall_before, recall_after,\n",
        "                f1_before, f1_after,\n",
        "                roc_auc_before, roc_auc_after))\n",
        "\n",
        "compare_df = pd.DataFrame(compare_data, columns=columns)\n",
        "\n",
        "final_compared_df = compare_df.style.set_table_styles([\n",
        "    {'selector': 'th', 'props': [('background-color', '#f2f2f2'), ('font-weight', 'bold'), ('text-align', 'center')]},\n",
        "    {'selector': 'td', 'props': [('border', '1px solid #ccc')]},\n",
        "    {'selector': 'tr:hover', 'props': [('background-color', '#f9f9f9')]}\n",
        "]).set_properties(**{\n",
        "    'text-align': 'right'\n",
        "}).set_caption(\"Model Performance Comparison (Before & After SMOTE)\")"
      ],
      "metadata": {
        "id": "OT3XEqBoAens"
      },
      "execution_count": 25,
      "outputs": []
    },
    {
      "cell_type": "code",
      "source": [
        "final_compared_df"
      ],
      "metadata": {
        "colab": {
          "base_uri": "https://localhost:8080/",
          "height": 329
        },
        "id": "c_WjK8MRD5ty",
        "outputId": "1a20289d-20b7-4e9a-985f-2e0a1e6fbb79"
      },
      "execution_count": 26,
      "outputs": [
        {
          "output_type": "execute_result",
          "data": {
            "text/plain": [
              "<pandas.io.formats.style.Styler at 0x7c5715c34310>"
            ],
            "text/html": [
              "<style type=\"text/css\">\n",
              "#T_d9be8 th {\n",
              "  background-color: #f2f2f2;\n",
              "  font-weight: bold;\n",
              "  text-align: center;\n",
              "}\n",
              "#T_d9be8 td {\n",
              "  border: 1px solid #ccc;\n",
              "}\n",
              "#T_d9be8 tr:hover {\n",
              "  background-color: #f9f9f9;\n",
              "}\n",
              "#T_d9be8_row0_col0, #T_d9be8_row0_col1, #T_d9be8_row0_col2, #T_d9be8_row0_col3, #T_d9be8_row0_col4, #T_d9be8_row0_col5, #T_d9be8_row0_col6, #T_d9be8_row0_col7, #T_d9be8_row0_col8, #T_d9be8_row0_col9, #T_d9be8_row0_col10, #T_d9be8_row1_col0, #T_d9be8_row1_col1, #T_d9be8_row1_col2, #T_d9be8_row1_col3, #T_d9be8_row1_col4, #T_d9be8_row1_col5, #T_d9be8_row1_col6, #T_d9be8_row1_col7, #T_d9be8_row1_col8, #T_d9be8_row1_col9, #T_d9be8_row1_col10, #T_d9be8_row2_col0, #T_d9be8_row2_col1, #T_d9be8_row2_col2, #T_d9be8_row2_col3, #T_d9be8_row2_col4, #T_d9be8_row2_col5, #T_d9be8_row2_col6, #T_d9be8_row2_col7, #T_d9be8_row2_col8, #T_d9be8_row2_col9, #T_d9be8_row2_col10, #T_d9be8_row3_col0, #T_d9be8_row3_col1, #T_d9be8_row3_col2, #T_d9be8_row3_col3, #T_d9be8_row3_col4, #T_d9be8_row3_col5, #T_d9be8_row3_col6, #T_d9be8_row3_col7, #T_d9be8_row3_col8, #T_d9be8_row3_col9, #T_d9be8_row3_col10, #T_d9be8_row4_col0, #T_d9be8_row4_col1, #T_d9be8_row4_col2, #T_d9be8_row4_col3, #T_d9be8_row4_col4, #T_d9be8_row4_col5, #T_d9be8_row4_col6, #T_d9be8_row4_col7, #T_d9be8_row4_col8, #T_d9be8_row4_col9, #T_d9be8_row4_col10 {\n",
              "  text-align: right;\n",
              "}\n",
              "</style>\n",
              "<table id=\"T_d9be8\" class=\"dataframe\">\n",
              "  <caption>Model Performance Comparison (Before & After SMOTE)</caption>\n",
              "  <thead>\n",
              "    <tr>\n",
              "      <th class=\"blank level0\" >&nbsp;</th>\n",
              "      <th id=\"T_d9be8_level0_col0\" class=\"col_heading level0 col0\" ></th>\n",
              "      <th id=\"T_d9be8_level0_col1\" class=\"col_heading level0 col1\" colspan=\"2\">Accuracy</th>\n",
              "      <th id=\"T_d9be8_level0_col3\" class=\"col_heading level0 col3\" colspan=\"2\">Precision</th>\n",
              "      <th id=\"T_d9be8_level0_col5\" class=\"col_heading level0 col5\" colspan=\"2\">Recall</th>\n",
              "      <th id=\"T_d9be8_level0_col7\" class=\"col_heading level0 col7\" colspan=\"2\">F1-Score</th>\n",
              "      <th id=\"T_d9be8_level0_col9\" class=\"col_heading level0 col9\" colspan=\"2\">ROC-AUC Score</th>\n",
              "    </tr>\n",
              "    <tr>\n",
              "      <th class=\"blank level1\" >&nbsp;</th>\n",
              "      <th id=\"T_d9be8_level1_col0\" class=\"col_heading level1 col0\" >Model</th>\n",
              "      <th id=\"T_d9be8_level1_col1\" class=\"col_heading level1 col1\" >Before SMOTE</th>\n",
              "      <th id=\"T_d9be8_level1_col2\" class=\"col_heading level1 col2\" >After SMOTE</th>\n",
              "      <th id=\"T_d9be8_level1_col3\" class=\"col_heading level1 col3\" >Before SMOTE</th>\n",
              "      <th id=\"T_d9be8_level1_col4\" class=\"col_heading level1 col4\" >After SMOTE</th>\n",
              "      <th id=\"T_d9be8_level1_col5\" class=\"col_heading level1 col5\" >Before SMOTE</th>\n",
              "      <th id=\"T_d9be8_level1_col6\" class=\"col_heading level1 col6\" >After SMOTE</th>\n",
              "      <th id=\"T_d9be8_level1_col7\" class=\"col_heading level1 col7\" >Before SMOTE</th>\n",
              "      <th id=\"T_d9be8_level1_col8\" class=\"col_heading level1 col8\" >After SMOTE</th>\n",
              "      <th id=\"T_d9be8_level1_col9\" class=\"col_heading level1 col9\" >Before SMOTE</th>\n",
              "      <th id=\"T_d9be8_level1_col10\" class=\"col_heading level1 col10\" >After SMOTE</th>\n",
              "    </tr>\n",
              "  </thead>\n",
              "  <tbody>\n",
              "    <tr>\n",
              "      <th id=\"T_d9be8_level0_row0\" class=\"row_heading level0 row0\" >0</th>\n",
              "      <td id=\"T_d9be8_row0_col0\" class=\"data row0 col0\" >Logistic Regression</td>\n",
              "      <td id=\"T_d9be8_row0_col1\" class=\"data row0 col1\" >0.959080</td>\n",
              "      <td id=\"T_d9be8_row0_col2\" class=\"data row0 col2\" >0.919707</td>\n",
              "      <td id=\"T_d9be8_row0_col3\" class=\"data row0 col3\" >0.895513</td>\n",
              "      <td id=\"T_d9be8_row0_col4\" class=\"data row0 col4\" >0.916324</td>\n",
              "      <td id=\"T_d9be8_row0_col5\" class=\"data row0 col5\" >0.602075</td>\n",
              "      <td id=\"T_d9be8_row0_col6\" class=\"data row0 col6\" >0.923662</td>\n",
              "      <td id=\"T_d9be8_row0_col7\" class=\"data row0 col7\" >0.720046</td>\n",
              "      <td id=\"T_d9be8_row0_col8\" class=\"data row0 col8\" >0.919979</td>\n",
              "      <td id=\"T_d9be8_row0_col9\" class=\"data row0 col9\" >0.797673</td>\n",
              "      <td id=\"T_d9be8_row0_col10\" class=\"data row0 col10\" >0.919710</td>\n",
              "    </tr>\n",
              "    <tr>\n",
              "      <th id=\"T_d9be8_level0_row1\" class=\"row_heading level0 row1\" >1</th>\n",
              "      <td id=\"T_d9be8_row1_col0\" class=\"data row1 col0\" >Random Forest</td>\n",
              "      <td id=\"T_d9be8_row1_col1\" class=\"data row1 col1\" >0.999983</td>\n",
              "      <td id=\"T_d9be8_row1_col2\" class=\"data row1 col2\" >0.999290</td>\n",
              "      <td id=\"T_d9be8_row1_col3\" class=\"data row1 col3\" >1.000000</td>\n",
              "      <td id=\"T_d9be8_row1_col4\" class=\"data row1 col4\" >0.998675</td>\n",
              "      <td id=\"T_d9be8_row1_col5\" class=\"data row1 col5\" >0.999809</td>\n",
              "      <td id=\"T_d9be8_row1_col6\" class=\"data row1 col6\" >0.999905</td>\n",
              "      <td id=\"T_d9be8_row1_col7\" class=\"data row1 col7\" >0.999905</td>\n",
              "      <td id=\"T_d9be8_row1_col8\" class=\"data row1 col8\" >0.999290</td>\n",
              "      <td id=\"T_d9be8_row1_col9\" class=\"data row1 col9\" >0.999905</td>\n",
              "      <td id=\"T_d9be8_row1_col10\" class=\"data row1 col10\" >0.999290</td>\n",
              "    </tr>\n",
              "    <tr>\n",
              "      <th id=\"T_d9be8_level0_row2\" class=\"row_heading level0 row2\" >2</th>\n",
              "      <td id=\"T_d9be8_row2_col0\" class=\"data row2 col0\" >XGBoost</td>\n",
              "      <td id=\"T_d9be8_row2_col1\" class=\"data row2 col1\" >0.998330</td>\n",
              "      <td id=\"T_d9be8_row2_col2\" class=\"data row2 col2\" >0.998260</td>\n",
              "      <td id=\"T_d9be8_row2_col3\" class=\"data row2 col3\" >0.989681</td>\n",
              "      <td id=\"T_d9be8_row2_col4\" class=\"data row2 col4\" >0.996761</td>\n",
              "      <td id=\"T_d9be8_row2_col5\" class=\"data row2 col5\" >0.991228</td>\n",
              "      <td id=\"T_d9be8_row2_col6\" class=\"data row2 col6\" >0.999766</td>\n",
              "      <td id=\"T_d9be8_row2_col7\" class=\"data row2 col7\" >0.990454</td>\n",
              "      <td id=\"T_d9be8_row2_col8\" class=\"data row2 col8\" >0.998261</td>\n",
              "      <td id=\"T_d9be8_row2_col9\" class=\"data row2 col9\" >0.995119</td>\n",
              "      <td id=\"T_d9be8_row2_col10\" class=\"data row2 col10\" >0.998260</td>\n",
              "    </tr>\n",
              "    <tr>\n",
              "      <th id=\"T_d9be8_level0_row3\" class=\"row_heading level0 row3\" >3</th>\n",
              "      <td id=\"T_d9be8_row3_col0\" class=\"data row3 col0\" >Isolation Forest</td>\n",
              "      <td id=\"T_d9be8_row3_col1\" class=\"data row3 col1\" >0.884047</td>\n",
              "      <td id=\"T_d9be8_row3_col2\" class=\"data row3 col2\" >0.884047</td>\n",
              "      <td id=\"T_d9be8_row3_col3\" class=\"data row3 col3\" >0.214500</td>\n",
              "      <td id=\"T_d9be8_row3_col4\" class=\"data row3 col4\" >0.214500</td>\n",
              "      <td id=\"T_d9be8_row3_col5\" class=\"data row3 col5\" >0.122707</td>\n",
              "      <td id=\"T_d9be8_row3_col6\" class=\"data row3 col6\" >0.122707</td>\n",
              "      <td id=\"T_d9be8_row3_col7\" class=\"data row3 col7\" >0.156110</td>\n",
              "      <td id=\"T_d9be8_row3_col8\" class=\"data row3 col8\" >0.156110</td>\n",
              "      <td id=\"T_d9be8_row3_col9\" class=\"data row3 col9\" >0.539835</td>\n",
              "      <td id=\"T_d9be8_row3_col10\" class=\"data row3 col10\" >0.539835</td>\n",
              "    </tr>\n",
              "    <tr>\n",
              "      <th id=\"T_d9be8_level0_row4\" class=\"row_heading level0 row4\" >4</th>\n",
              "      <td id=\"T_d9be8_row4_col0\" class=\"data row4 col0\" >Autoencoder</td>\n",
              "      <td id=\"T_d9be8_row4_col1\" class=\"data row4 col1\" >0.885476</td>\n",
              "      <td id=\"T_d9be8_row4_col2\" class=\"data row4 col2\" >0.885476</td>\n",
              "      <td id=\"T_d9be8_row4_col3\" class=\"data row4 col3\" >0.288576</td>\n",
              "      <td id=\"T_d9be8_row4_col4\" class=\"data row4 col4\" >0.288576</td>\n",
              "      <td id=\"T_d9be8_row4_col5\" class=\"data row4 col5\" >0.211766</td>\n",
              "      <td id=\"T_d9be8_row4_col6\" class=\"data row4 col6\" >0.211766</td>\n",
              "      <td id=\"T_d9be8_row4_col7\" class=\"data row4 col7\" >0.244276</td>\n",
              "      <td id=\"T_d9be8_row4_col8\" class=\"data row4 col8\" >0.244276</td>\n",
              "      <td id=\"T_d9be8_row4_col9\" class=\"data row4 col9\" >0.580883</td>\n",
              "      <td id=\"T_d9be8_row4_col10\" class=\"data row4 col10\" >0.580883</td>\n",
              "    </tr>\n",
              "  </tbody>\n",
              "</table>\n"
            ]
          },
          "metadata": {},
          "execution_count": 26
        }
      ]
    }
  ]
}